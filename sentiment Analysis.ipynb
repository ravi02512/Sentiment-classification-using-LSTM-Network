{
  "nbformat": 4,
  "nbformat_minor": 0,
  "metadata": {
    "colab": {
      "name": "Untitled7.ipynb",
      "version": "0.3.2",
      "provenance": [],
      "collapsed_sections": [],
      "machine_shape": "hm",
      "include_colab_link": true
    },
    "kernelspec": {
      "name": "python3",
      "display_name": "Python 3"
    }
  },
  "cells": [
    {
      "cell_type": "markdown",
      "metadata": {
        "id": "view-in-github",
        "colab_type": "text"
      },
      "source": [
        "<a href=\"https://colab.research.google.com/github/ravi02512/Sentiment-classification-using-LSTM-Network/blob/master/sentiment%20Analysis.ipynb\" target=\"_parent\"><img src=\"https://colab.research.google.com/assets/colab-badge.svg\" alt=\"Open In Colab\"/></a>"
      ]
    },
    {
      "cell_type": "code",
      "metadata": {
        "id": "vgZwOBH0rcV2",
        "colab_type": "code",
        "outputId": "bb4d3ed2-09f0-4542-de7c-d137093c9c95",
        "colab": {
          "base_uri": "https://localhost:8080/",
          "height": 124
        }
      },
      "source": [
        "from google.colab import drive\n",
        "drive.mount('/content/drive')"
      ],
      "execution_count": 0,
      "outputs": [
        {
          "output_type": "stream",
          "text": [
            "Go to this URL in a browser: https://accounts.google.com/o/oauth2/auth?client_id=947318989803-6bn6qk8qdgf4n4g3pfee6491hc0brc4i.apps.googleusercontent.com&redirect_uri=urn%3Aietf%3Awg%3Aoauth%3A2.0%3Aoob&scope=email%20https%3A%2F%2Fwww.googleapis.com%2Fauth%2Fdocs.test%20https%3A%2F%2Fwww.googleapis.com%2Fauth%2Fdrive%20https%3A%2F%2Fwww.googleapis.com%2Fauth%2Fdrive.photos.readonly%20https%3A%2F%2Fwww.googleapis.com%2Fauth%2Fpeopleapi.readonly&response_type=code\n",
            "\n",
            "Enter your authorization code:\n",
            "··········\n",
            "Mounted at /content/drive\n"
          ],
          "name": "stdout"
        }
      ]
    },
    {
      "cell_type": "code",
      "metadata": {
        "id": "l_E4BNMzrBx3",
        "colab_type": "code",
        "outputId": "fd9c7dfd-77c2-4b65-b362-3879f47d0d30",
        "colab": {
          "base_uri": "https://localhost:8080/",
          "height": 34
        }
      },
      "source": [
        "import numpy as np\n",
        "np.random.seed(0)\n",
        "from keras.models import Model\n",
        "from keras.layers import Dense, Input, Dropout, LSTM, Activation\n",
        "from keras.layers.embeddings import Embedding\n",
        "from keras.preprocessing import sequence\n",
        "from keras.initializers import glorot_uniform\n",
        "np.random.seed(1)\n",
        "\n",
        "\n",
        "\n",
        "import pandas as pd \n",
        "import numpy as np"
      ],
      "execution_count": 0,
      "outputs": [
        {
          "output_type": "stream",
          "text": [
            "Using TensorFlow backend.\n"
          ],
          "name": "stderr"
        }
      ]
    },
    {
      "cell_type": "code",
      "metadata": {
        "id": "UC2lhKn0tsZL",
        "colab_type": "code",
        "colab": {}
      },
      "source": [
        "#helper functions\n",
        "\n",
        "\n",
        "import numpy as np\n",
        "import pandas as pd\n",
        "\n",
        "def read_glove_vecs(glove_file):\n",
        "    with open(glove_file, 'r') as f:\n",
        "        words = set()\n",
        "        word_to_vec_map = {}\n",
        "        for line in f:\n",
        "            line = line.strip().split()\n",
        "            curr_word = line[0]\n",
        "            words.add(curr_word)\n",
        "            word_to_vec_map[curr_word] = np.array(line[1:], dtype=np.float64)\n",
        "        \n",
        "        i = 1\n",
        "        words_to_index = {}\n",
        "        index_to_words = {}\n",
        "        for w in sorted(words):\n",
        "            words_to_index[w] = i\n",
        "            index_to_words[i] = w\n",
        "            i = i + 1\n",
        "    return words_to_index, index_to_words, word_to_vec_map\n",
        "\n",
        "\n",
        "def convert_to_one_hot(Y, C):\n",
        "    Y = np.eye(C)[Y.reshape(-1)]\n",
        "    return Y\n",
        "\n",
        "    "
      ],
      "execution_count": 0,
      "outputs": []
    },
    {
      "cell_type": "code",
      "metadata": {
        "id": "_XVSlEQzrLVm",
        "colab_type": "code",
        "colab": {}
      },
      "source": [
        "train = pd.read_csv('/content/drive/My Drive/sentiment/train_2kmZucJ.csv')\n",
        "test= pd.read_csv('/content/drive/My Drive/sentiment/test_oJQbWVk.csv')"
      ],
      "execution_count": 0,
      "outputs": []
    },
    {
      "cell_type": "code",
      "metadata": {
        "id": "TT12wV5hF-Xr",
        "colab_type": "code",
        "colab": {}
      },
      "source": [
        "word_to_index, index_to_word, word_to_vec_map = read_glove_vecs('/content/drive/My Drive/sentiment/glove.6B/glove.6B/glove.6B.300d.txt')\n",
        "\n",
        "dictionary=word_to_vec_map.keys()"
      ],
      "execution_count": 0,
      "outputs": []
    },
    {
      "cell_type": "code",
      "metadata": {
        "id": "aFsbO2ZMEYzd",
        "colab_type": "code",
        "colab": {}
      },
      "source": [
        "import re\n",
        "clean_train=[]\n",
        "for i in range(len(train)):\n",
        "  new=re.sub('[^A-Za-z ]+', ' ', train['tweet'][i])\n",
        "  clean_train.append(new)"
      ],
      "execution_count": 0,
      "outputs": []
    },
    {
      "cell_type": "code",
      "metadata": {
        "id": "SQKmuAJULr4m",
        "colab_type": "code",
        "colab": {
          "base_uri": "https://localhost:8080/",
          "height": 52
        },
        "outputId": "2e585cde-1caa-4f60-a367-1256930115e7"
      },
      "source": [
        "import nltk\n",
        "nltk.download('stopwords')\n",
        "stopwords = nltk.corpus.stopwords.words('english')"
      ],
      "execution_count": 110,
      "outputs": [
        {
          "output_type": "stream",
          "text": [
            "[nltk_data] Downloading package stopwords to /root/nltk_data...\n",
            "[nltk_data]   Package stopwords is already up-to-date!\n"
          ],
          "name": "stdout"
        }
      ]
    },
    {
      "cell_type": "code",
      "metadata": {
        "id": "jr9Clj9VL1cT",
        "colab_type": "code",
        "colab": {}
      },
      "source": [
        "def clean_sentence(sentence):\n",
        "  tokens=[]\n",
        "  word_list=sentence.split(' ')\n",
        "  for w in word_list:\n",
        "    if w in dictionary:\n",
        "#       if w not in stopwords:\n",
        "      if set(w) & set('aeiou')!=set():\n",
        "        tokens.append(w)\n",
        "\n",
        "  return ' '.join(tokens)"
      ],
      "execution_count": 0,
      "outputs": []
    },
    {
      "cell_type": "code",
      "metadata": {
        "id": "upxy6XdoLh6d",
        "colab_type": "code",
        "colab": {}
      },
      "source": [
        "final_train=[]\n",
        "for i in range(len(clean_train)):\n",
        "  final_train.append(clean_sentence(clean_train[i]))\n",
        "  "
      ],
      "execution_count": 0,
      "outputs": []
    },
    {
      "cell_type": "code",
      "metadata": {
        "id": "hsJewaTQOzdE",
        "colab_type": "code",
        "colab": {
          "base_uri": "https://localhost:8080/",
          "height": 34
        },
        "outputId": "a2ebd80e-617e-47f8-ac78-5f4ef97943ba"
      },
      "source": [
        "final_train[1]"
      ],
      "execution_count": 176,
      "outputs": [
        {
          "output_type": "execute_result",
          "data": {
            "text/plain": [
              "'a silicon case to uncle yay instagram com'"
            ]
          },
          "metadata": {
            "tags": []
          },
          "execution_count": 176
        }
      ]
    },
    {
      "cell_type": "code",
      "metadata": {
        "id": "dvjjQoK8posN",
        "colab_type": "code",
        "colab": {}
      },
      "source": [
        "tokens=[]\n",
        "for i in range(len(clean_train)):\n",
        "  tokens.extend(clean_train[i].split(' '))"
      ],
      "execution_count": 0,
      "outputs": []
    },
    {
      "cell_type": "code",
      "metadata": {
        "id": "0ncGFWt_qKxz",
        "colab_type": "code",
        "outputId": "61e62682-d8be-45fa-9d6f-e8cc9e8ee658",
        "colab": {
          "base_uri": "https://localhost:8080/",
          "height": 206
        }
      },
      "source": [
        "count_df=pd.DataFrame(tokens,columns=['words'])\n",
        "count_df=count_df['words'].value_counts().reset_index().rename(columns={'index':'words', 'words':'counts'})\n",
        "count_df['word length']=[len(w) for w in count_df['words']]\n",
        "count_df.head()"
      ],
      "execution_count": 0,
      "outputs": [
        {
          "output_type": "execute_result",
          "data": {
            "text/html": [
              "<div>\n",
              "<style scoped>\n",
              "    .dataframe tbody tr th:only-of-type {\n",
              "        vertical-align: middle;\n",
              "    }\n",
              "\n",
              "    .dataframe tbody tr th {\n",
              "        vertical-align: top;\n",
              "    }\n",
              "\n",
              "    .dataframe thead th {\n",
              "        text-align: right;\n",
              "    }\n",
              "</style>\n",
              "<table border=\"1\" class=\"dataframe\">\n",
              "  <thead>\n",
              "    <tr style=\"text-align: right;\">\n",
              "      <th></th>\n",
              "      <th>words</th>\n",
              "      <th>counts</th>\n",
              "      <th>word length</th>\n",
              "    </tr>\n",
              "  </thead>\n",
              "  <tbody>\n",
              "    <tr>\n",
              "      <th>0</th>\n",
              "      <td></td>\n",
              "      <td>75832</td>\n",
              "      <td>0</td>\n",
              "    </tr>\n",
              "    <tr>\n",
              "      <th>1</th>\n",
              "      <td>http</td>\n",
              "      <td>3442</td>\n",
              "      <td>4</td>\n",
              "    </tr>\n",
              "    <tr>\n",
              "      <th>2</th>\n",
              "      <td>com</td>\n",
              "      <td>3389</td>\n",
              "      <td>3</td>\n",
              "    </tr>\n",
              "    <tr>\n",
              "      <th>3</th>\n",
              "      <td>iphone</td>\n",
              "      <td>2798</td>\n",
              "      <td>6</td>\n",
              "    </tr>\n",
              "    <tr>\n",
              "      <th>4</th>\n",
              "      <td>p</td>\n",
              "      <td>2724</td>\n",
              "      <td>1</td>\n",
              "    </tr>\n",
              "  </tbody>\n",
              "</table>\n",
              "</div>"
            ],
            "text/plain": [
              "    words  counts  word length\n",
              "0           75832            0\n",
              "1    http    3442            4\n",
              "2     com    3389            3\n",
              "3  iphone    2798            6\n",
              "4       p    2724            1"
            ]
          },
          "metadata": {
            "tags": []
          },
          "execution_count": 12
        }
      ]
    },
    {
      "cell_type": "code",
      "metadata": {
        "id": "8eaNa1VIigXL",
        "colab_type": "code",
        "outputId": "1aeb915b-e2bf-4c94-ece2-adedc5502181",
        "colab": {
          "base_uri": "https://localhost:8080/",
          "height": 132
        }
      },
      "source": [
        "g=[]\n",
        "for w in count_df['words']:\n",
        "  if w in dictionary:\n",
        "    g.append(w)\n",
        "    \n",
        "print('number of words belong to dictionary'len(g))"
      ],
      "execution_count": 0,
      "outputs": [
        {
          "output_type": "error",
          "ename": "SyntaxError",
          "evalue": "ignored",
          "traceback": [
            "\u001b[0;36m  File \u001b[0;32m\"<ipython-input-84-a8cd48ca847d>\"\u001b[0;36m, line \u001b[0;32m6\u001b[0m\n\u001b[0;31m    print('number of words belong to dictionary'len(g))\u001b[0m\n\u001b[0m                                                  ^\u001b[0m\n\u001b[0;31mSyntaxError\u001b[0m\u001b[0;31m:\u001b[0m invalid syntax\n"
          ]
        }
      ]
    },
    {
      "cell_type": "code",
      "metadata": {
        "id": "AyQ-sqrYsES_",
        "colab_type": "code",
        "colab": {}
      },
      "source": [
        "length=[]\n",
        "for i in range(len(final_train)):\n",
        "  length.append(len([word.lower() for word in final_train[i].split()]))"
      ],
      "execution_count": 0,
      "outputs": []
    },
    {
      "cell_type": "code",
      "metadata": {
        "id": "rCY5IBmDsEQ-",
        "colab_type": "code",
        "outputId": "93673a83-9cb0-41b1-cb58-82e654968d97",
        "colab": {
          "base_uri": "https://localhost:8080/",
          "height": 34
        }
      },
      "source": [
        "max_len=np.max(length)\n",
        "print(max_len)"
      ],
      "execution_count": 178,
      "outputs": [
        {
          "output_type": "stream",
          "text": [
            "49\n"
          ],
          "name": "stdout"
        }
      ]
    },
    {
      "cell_type": "code",
      "metadata": {
        "id": "EXQqwmumsEN1",
        "colab_type": "code",
        "colab": {}
      },
      "source": [
        "\n",
        "def sentences_to_indices(X, word_to_index, max_len):\n",
        "    \"\"\"\n",
        "    Arguments:\n",
        "    X -- array of sentences (strings), of shape (m, 1)\n",
        "    word_to_index -- a dictionary containing the each word mapped to its index\n",
        "    max_len -- maximum number of words in a sentence. You can assume every sentence in X is no longer than this. \n",
        "    \n",
        "    Returns:\n",
        "    X_indices -- array of indices corresponding to words in the sentences from X, of shape (m, max_len)\n",
        "    \"\"\"\n",
        "    \n",
        "    m = X.shape[0]                        \n",
        "    \n",
        "    X_indices = np.zeros((m,max_len))\n",
        "    \n",
        "    for i in range(m):                                     \n",
        "        sentence_words = [word.lower() for word in X[i].split()]\n",
        "        j = 0\n",
        "        for w in sentence_words:\n",
        "          if w.lower() in dictionary:\n",
        "              X_indices[i, j] = word_to_index[w.lower()]\n",
        "              #\n",
        "              j = j + 1\n",
        "\n",
        "\n",
        "    \n",
        "    return X_indices"
      ],
      "execution_count": 0,
      "outputs": []
    },
    {
      "cell_type": "code",
      "metadata": {
        "id": "t3HVjNLKDY34",
        "colab_type": "code",
        "outputId": "c383ca83-50dd-4369-f8aa-61be7b49e93f",
        "colab": {
          "base_uri": "https://localhost:8080/",
          "height": 34
        }
      },
      "source": [
        ""
      ],
      "execution_count": 0,
      "outputs": [
        {
          "output_type": "execute_result",
          "data": {
            "text/plain": [
              "1193515"
            ]
          },
          "metadata": {
            "tags": []
          },
          "execution_count": 218
        }
      ]
    },
    {
      "cell_type": "code",
      "metadata": {
        "id": "Hs8UpgX-sELn",
        "colab_type": "code",
        "colab": {}
      },
      "source": [
        "def pretrained_embedding_layer(word_to_vec_map, word_to_index):\n",
        "    \"\"\"\n",
        "    \n",
        "    Arguments:\n",
        "    word_to_vec_map -- dictionary mapping words to their GloVe vector representation.\n",
        "    word_to_index -- dictionary mapping from words to their indices in the vocabulary (400,001 words)\n",
        "\n",
        "    Returns:\n",
        "    embedding_layer -- pretrained layer Keras instance\n",
        "    \"\"\"\n",
        "    \n",
        "    vocab_len = len(word_to_index) + 1                 \n",
        "    emb_dim = word_to_vec_map[\"cucumber\"].shape[0]      \n",
        "    \n",
        "    emb_matrix = np.zeros((vocab_len, emb_dim))\n",
        "    \n",
        "    \n",
        "    for word, index in word_to_index.items():\n",
        "      if index!= 1800:\n",
        "        emb_matrix[index, :] = word_to_vec_map[word]\n",
        "\n",
        "    embedding_layer = Embedding(vocab_len, emb_dim, trainable = False)\n",
        "    \n",
        "\n",
        "    embedding_layer.build((None,))\n",
        "    \n",
        "    embedding_layer.set_weights([emb_matrix])\n",
        "    \n",
        "    return embedding_layer"
      ],
      "execution_count": 0,
      "outputs": []
    },
    {
      "cell_type": "code",
      "metadata": {
        "id": "hDcP1lvKsEHw",
        "colab_type": "code",
        "colab": {}
      },
      "source": [
        "\n",
        "def my_model(input_shape, word_to_vec_map, word_to_index):\n",
        "    \"\"\"\n",
        "    \n",
        "    Arguments:\n",
        "    input_shape -- shape of the input, usually (max_len,)\n",
        "    word_to_vec_map -- dictionary mapping every word in a vocabulary into its 50-dimensional vector representation\n",
        "    word_to_index -- dictionary mapping from words to their indices in the vocabulary (400,001 words)\n",
        "\n",
        "    Returns:\n",
        "    model -- a model instance in Keras\n",
        "    \"\"\"\n",
        "    \n",
        "    sentence_indices = Input(input_shape, dtype = 'int32')\n",
        "    \n",
        "  \n",
        "    embedding_layer = pretrained_embedding_layer(word_to_vec_map, word_to_index)\n",
        "    \n",
        "    embeddings = embedding_layer(sentence_indices)\n",
        "    \n",
        "    X = LSTM(128, return_sequences = True)(embeddings)\n",
        "    X = Dropout(0.5)(X)\n",
        "    \n",
        "    X = LSTM(128, return_sequences=False)(X)\n",
        "    X = Dropout(0.5)(X)\n",
        "    \n",
        "    X = Dense(2)(X)\n",
        "    X = Activation('softmax')(X)\n",
        "    \n",
        "    model = Model(inputs = sentence_indices, outputs = X)\n",
        "    \n",
        "    \n",
        "    return model"
      ],
      "execution_count": 0,
      "outputs": []
    },
    {
      "cell_type": "code",
      "metadata": {
        "id": "dpHEXa0QCvNX",
        "colab_type": "code",
        "outputId": "4caa77c4-9333-4027-a148-e8de8c65309c",
        "colab": {
          "base_uri": "https://localhost:8080/",
          "height": 34
        }
      },
      "source": [
        "import gc \n",
        "gc.collect()"
      ],
      "execution_count": 198,
      "outputs": [
        {
          "output_type": "execute_result",
          "data": {
            "text/plain": [
              "439"
            ]
          },
          "metadata": {
            "tags": []
          },
          "execution_count": 198
        }
      ]
    },
    {
      "cell_type": "code",
      "metadata": {
        "id": "oDfwEKRxsEFx",
        "colab_type": "code",
        "outputId": "79866b41-d9ab-4f1b-c1cf-e48e2b90a7cf",
        "colab": {
          "base_uri": "https://localhost:8080/",
          "height": 434
        }
      },
      "source": [
        "model = my_model((max_len,), word_to_vec_map, word_to_index)\n",
        "model.summary()"
      ],
      "execution_count": 199,
      "outputs": [
        {
          "output_type": "stream",
          "text": [
            "Model: \"model_13\"\n",
            "_________________________________________________________________\n",
            "Layer (type)                 Output Shape              Param #   \n",
            "=================================================================\n",
            "input_15 (InputLayer)        (None, 49)                0         \n",
            "_________________________________________________________________\n",
            "embedding_13 (Embedding)     (None, 49, 300)           120000300 \n",
            "_________________________________________________________________\n",
            "lstm_25 (LSTM)               (None, 49, 128)           219648    \n",
            "_________________________________________________________________\n",
            "dropout_23 (Dropout)         (None, 49, 128)           0         \n",
            "_________________________________________________________________\n",
            "lstm_26 (LSTM)               (None, 128)               131584    \n",
            "_________________________________________________________________\n",
            "dropout_24 (Dropout)         (None, 128)               0         \n",
            "_________________________________________________________________\n",
            "dense_13 (Dense)             (None, 2)                 258       \n",
            "_________________________________________________________________\n",
            "activation_13 (Activation)   (None, 2)                 0         \n",
            "=================================================================\n",
            "Total params: 120,351,790\n",
            "Trainable params: 351,490\n",
            "Non-trainable params: 120,000,300\n",
            "_________________________________________________________________\n"
          ],
          "name": "stdout"
        }
      ]
    },
    {
      "cell_type": "code",
      "metadata": {
        "id": "jJ3CuK71sEBs",
        "colab_type": "code",
        "colab": {}
      },
      "source": [
        "from keras import optimizers\n",
        "# sgd = optimizers.SGD(lr=0.1, decay=1e-4, momentum=0.9, nesterov=True)\n",
        "model.compile(loss='categorical_crossentropy', optimizer='adam', metrics=['accuracy'])"
      ],
      "execution_count": 0,
      "outputs": []
    },
    {
      "cell_type": "code",
      "metadata": {
        "id": "9i-HaP1jwcbj",
        "colab_type": "code",
        "colab": {}
      },
      "source": [
        "xtrain=np.asarray(final_train)\n",
        "y_train=np.asarray(ytrain)"
      ],
      "execution_count": 0,
      "outputs": []
    },
    {
      "cell_type": "code",
      "metadata": {
        "id": "rWNA39B-s0lP",
        "colab_type": "code",
        "colab": {}
      },
      "source": [
        "X_train_indices = sentences_to_indices(xtrain, word_to_index, max_len)\n",
        "Y_train_oh = convert_to_one_hot(y_train, C = 2)\n"
      ],
      "execution_count": 0,
      "outputs": []
    },
    {
      "cell_type": "code",
      "metadata": {
        "id": "DJoWeCSTs3qL",
        "colab_type": "code",
        "outputId": "5853f115-941e-4377-a6b2-81f67c9d7cc7",
        "colab": {
          "base_uri": "https://localhost:8080/",
          "height": 399
        }
      },
      "source": [
        "model.fit(X_train_indices, Y_train_oh,validation_split=0.2, epochs = 10, batch_size = 32, shuffle=True)"
      ],
      "execution_count": 203,
      "outputs": [
        {
          "output_type": "stream",
          "text": [
            "Train on 6336 samples, validate on 1584 samples\n",
            "Epoch 1/10\n",
            "6336/6336 [==============================] - 23s 4ms/step - loss: 0.0977 - acc: 0.9721 - val_loss: 0.3569 - val_acc: 0.8838\n",
            "Epoch 2/10\n",
            "6336/6336 [==============================] - 23s 4ms/step - loss: 0.0848 - acc: 0.9765 - val_loss: 0.4664 - val_acc: 0.8883\n",
            "Epoch 3/10\n",
            "6336/6336 [==============================] - 23s 4ms/step - loss: 0.0856 - acc: 0.9762 - val_loss: 0.4485 - val_acc: 0.8920\n",
            "Epoch 4/10\n",
            "6336/6336 [==============================] - 23s 4ms/step - loss: 0.0862 - acc: 0.9766 - val_loss: 0.4535 - val_acc: 0.8794\n",
            "Epoch 5/10\n",
            "6336/6336 [==============================] - 23s 4ms/step - loss: 0.1017 - acc: 0.9703 - val_loss: 0.3860 - val_acc: 0.8908\n",
            "Epoch 6/10\n",
            "6336/6336 [==============================] - 23s 4ms/step - loss: 0.0921 - acc: 0.9744 - val_loss: 0.4296 - val_acc: 0.8895\n",
            "Epoch 7/10\n",
            "6336/6336 [==============================] - 23s 4ms/step - loss: 0.0805 - acc: 0.9779 - val_loss: 0.4129 - val_acc: 0.8838\n",
            "Epoch 8/10\n",
            "6336/6336 [==============================] - 23s 4ms/step - loss: 0.0795 - acc: 0.9781 - val_loss: 0.5482 - val_acc: 0.8870\n",
            "Epoch 9/10\n",
            "6336/6336 [==============================] - 23s 4ms/step - loss: 0.0909 - acc: 0.9738 - val_loss: 0.4385 - val_acc: 0.8832\n",
            "Epoch 10/10\n",
            "6336/6336 [==============================] - 23s 4ms/step - loss: 0.0948 - acc: 0.9722 - val_loss: 0.3841 - val_acc: 0.8889\n"
          ],
          "name": "stdout"
        },
        {
          "output_type": "execute_result",
          "data": {
            "text/plain": [
              "<keras.callbacks.History at 0x7f6aba3cecf8>"
            ]
          },
          "metadata": {
            "tags": []
          },
          "execution_count": 203
        }
      ]
    },
    {
      "cell_type": "code",
      "metadata": {
        "id": "Jhiwk32J9LFF",
        "colab_type": "code",
        "colab": {}
      },
      "source": [
        "test_clean=[]\n",
        "for i in range(len(test)):\n",
        "  new=re.sub('[^A-Za-z ]+', ' ', test['tweet'][i])\n",
        "  test_clean.append(new)\n",
        "  \n",
        "  \n",
        "  \n",
        "final_test=[]\n",
        "for i in range(len(test_clean)):\n",
        "  final_test.append(clean_sentence(test_clean[i]))\n",
        "  \n",
        "  \n",
        "xtest=np.asarray(final_test)\n",
        "\n",
        "\n",
        "X_test_indices = sentences_to_indices(xtest, word_to_index, max_len)\n",
        "\n",
        "\n",
        "y_pred=model.predict(X_test_indices)\n",
        "\n",
        "\n",
        "pred=[]\n",
        "for i in range(len(y_pred)):\n",
        "  pred.append(y_pred[i].tolist().index(y_pred[i].max()))\n"
      ],
      "execution_count": 0,
      "outputs": []
    },
    {
      "cell_type": "code",
      "metadata": {
        "id": "eS7uPWT0s3fy",
        "colab_type": "code",
        "colab": {}
      },
      "source": [
        "import os\n",
        "sample_sub=pd.read_csv('/content/drive/My Drive/sentiment/sample_submission_LnhVWA4.csv')\n",
        "sample_sub['label']=pred\n",
        "os.chdir('/content/drive/My Drive/sentiment')\n",
        "sample_sub.to_csv('sub17.csv', index=False)"
      ],
      "execution_count": 0,
      "outputs": []
    },
    {
      "cell_type": "code",
      "metadata": {
        "id": "9Aja_cZ7s3Zg",
        "colab_type": "code",
        "colab": {}
      },
      "source": [
        ""
      ],
      "execution_count": 0,
      "outputs": []
    }
  ]
}