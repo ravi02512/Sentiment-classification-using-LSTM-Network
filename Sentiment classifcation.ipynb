{
  "nbformat": 4,
  "nbformat_minor": 0,
  "metadata": {
    "colab": {
      "name": "Untitled7.ipynb",
      "version": "0.3.2",
      "provenance": [],
      "collapsed_sections": [],
      "machine_shape": "hm",
      "include_colab_link": true
    },
    "kernelspec": {
      "name": "python3",
      "display_name": "Python 3"
    }
  },
  "cells": [
    {
      "cell_type": "markdown",
      "metadata": {
        "id": "view-in-github",
        "colab_type": "text"
      },
      "source": [
        "<a href=\"https://colab.research.google.com/github/ravi02512/Sentiment-classification-using-LSTM-Network/blob/master/Sentiment%20classifcation.ipynb\" target=\"_parent\"><img src=\"https://colab.research.google.com/assets/colab-badge.svg\" alt=\"Open In Colab\"/></a>"
      ]
    },
    {
      "cell_type": "code",
      "metadata": {
        "id": "vgZwOBH0rcV2",
        "colab_type": "code",
        "outputId": "bb4d3ed2-09f0-4542-de7c-d137093c9c95",
        "colab": {
          "base_uri": "https://localhost:8080/",
          "height": 124
        }
      },
      "source": [
        "from google.colab import drive\n",
        "drive.mount('/content/drive')"
      ],
      "execution_count": 0,
      "outputs": [
        {
          "output_type": "stream",
          "text": [
            "Go to this URL in a browser: https://accounts.google.com/o/oauth2/auth?client_id=947318989803-6bn6qk8qdgf4n4g3pfee6491hc0brc4i.apps.googleusercontent.com&redirect_uri=urn%3Aietf%3Awg%3Aoauth%3A2.0%3Aoob&scope=email%20https%3A%2F%2Fwww.googleapis.com%2Fauth%2Fdocs.test%20https%3A%2F%2Fwww.googleapis.com%2Fauth%2Fdrive%20https%3A%2F%2Fwww.googleapis.com%2Fauth%2Fdrive.photos.readonly%20https%3A%2F%2Fwww.googleapis.com%2Fauth%2Fpeopleapi.readonly&response_type=code\n",
            "\n",
            "Enter your authorization code:\n",
            "··········\n",
            "Mounted at /content/drive\n"
          ],
          "name": "stdout"
        }
      ]
    },
    {
      "cell_type": "code",
      "metadata": {
        "id": "l_E4BNMzrBx3",
        "colab_type": "code",
        "outputId": "fd9c7dfd-77c2-4b65-b362-3879f47d0d30",
        "colab": {
          "base_uri": "https://localhost:8080/",
          "height": 34
        }
      },
      "source": [
        "import numpy as np\n",
        "np.random.seed(0)\n",
        "from keras.models import Model\n",
        "from keras.layers import Dense, Input, Dropout, LSTM, Activation\n",
        "from keras.layers.embeddings import Embedding\n",
        "from keras.preprocessing import sequence\n",
        "from keras.initializers import glorot_uniform\n",
        "np.random.seed(1)\n",
        "\n",
        "\n",
        "\n",
        "import pandas as pd \n",
        "import numpy as np"
      ],
      "execution_count": 0,
      "outputs": [
        {
          "output_type": "stream",
          "text": [
            "Using TensorFlow backend.\n"
          ],
          "name": "stderr"
        }
      ]
    },
    {
      "cell_type": "code",
      "metadata": {
        "id": "UC2lhKn0tsZL",
        "colab_type": "code",
        "colab": {}
      },
      "source": [
        "#helper functions\n",
        "\n",
        "\n",
        "import numpy as np\n",
        "import pandas as pd\n",
        "\n",
        "def read_glove_vecs(glove_file):\n",
        "    with open(glove_file, 'r') as f:\n",
        "        words = set()\n",
        "        word_to_vec_map = {}\n",
        "        for line in f:\n",
        "            line = line.strip().split()\n",
        "            curr_word = line[0]\n",
        "            words.add(curr_word)\n",
        "            word_to_vec_map[curr_word] = np.array(line[1:], dtype=np.float64)\n",
        "        \n",
        "        i = 1\n",
        "        words_to_index = {}\n",
        "        index_to_words = {}\n",
        "        for w in sorted(words):\n",
        "            words_to_index[w] = i\n",
        "            index_to_words[i] = w\n",
        "            i = i + 1\n",
        "    return words_to_index, index_to_words, word_to_vec_map\n",
        "\n",
        "\n",
        "def convert_to_one_hot(Y, C):\n",
        "    Y = np.eye(C)[Y.reshape(-1)]\n",
        "    return Y\n",
        "\n",
        "    "
      ],
      "execution_count": 0,
      "outputs": []
    },
    {
      "cell_type": "code",
      "metadata": {
        "id": "_XVSlEQzrLVm",
        "colab_type": "code",
        "colab": {}
      },
      "source": [
        "train = pd.read_csv('/content/drive/My Drive/sentiment/train_2kmZucJ.csv')\n",
        "test= pd.read_csv('/content/drive/My Drive/sentiment/test_oJQbWVk.csv')"
      ],
      "execution_count": 0,
      "outputs": []
    },
    {
      "cell_type": "code",
      "metadata": {
        "id": "TT12wV5hF-Xr",
        "colab_type": "code",
        "colab": {}
      },
      "source": [
        "word_to_index, index_to_word, word_to_vec_map = read_glove_vecs('/content/drive/My Drive/sentiment/glove.twitter.27B.200d.txt')\n",
        "\n",
        "dictionary=word_to_vec_map.keys()"
      ],
      "execution_count": 0,
      "outputs": []
    },
    {
      "cell_type": "code",
      "metadata": {
        "id": "aFsbO2ZMEYzd",
        "colab_type": "code",
        "colab": {}
      },
      "source": [
        "import re\n",
        "clean_train=[]\n",
        "for i in range(len(train)):\n",
        "  new=re.sub('[^A-Za-z ]+', ' ', train['tweet'][i])\n",
        "  clean_train.append(new)"
      ],
      "execution_count": 0,
      "outputs": []
    },
    {
      "cell_type": "code",
      "metadata": {
        "id": "dvjjQoK8posN",
        "colab_type": "code",
        "colab": {}
      },
      "source": [
        "tokens=[]\n",
        "for i in range(len(clean_train)):\n",
        "  tokens.extend(clean_train[i].split(' '))"
      ],
      "execution_count": 0,
      "outputs": []
    },
    {
      "cell_type": "code",
      "metadata": {
        "id": "0ncGFWt_qKxz",
        "colab_type": "code",
        "outputId": "61e62682-d8be-45fa-9d6f-e8cc9e8ee658",
        "colab": {
          "base_uri": "https://localhost:8080/",
          "height": 206
        }
      },
      "source": [
        "count_df=pd.DataFrame(tokens,columns=['words'])\n",
        "count_df=count_df['words'].value_counts().reset_index().rename(columns={'index':'words', 'words':'counts'})\n",
        "count_df['word length']=[len(w) for w in count_df['words']]\n",
        "count_df.head()"
      ],
      "execution_count": 0,
      "outputs": [
        {
          "output_type": "execute_result",
          "data": {
            "text/html": [
              "<div>\n",
              "<style scoped>\n",
              "    .dataframe tbody tr th:only-of-type {\n",
              "        vertical-align: middle;\n",
              "    }\n",
              "\n",
              "    .dataframe tbody tr th {\n",
              "        vertical-align: top;\n",
              "    }\n",
              "\n",
              "    .dataframe thead th {\n",
              "        text-align: right;\n",
              "    }\n",
              "</style>\n",
              "<table border=\"1\" class=\"dataframe\">\n",
              "  <thead>\n",
              "    <tr style=\"text-align: right;\">\n",
              "      <th></th>\n",
              "      <th>words</th>\n",
              "      <th>counts</th>\n",
              "      <th>word length</th>\n",
              "    </tr>\n",
              "  </thead>\n",
              "  <tbody>\n",
              "    <tr>\n",
              "      <th>0</th>\n",
              "      <td></td>\n",
              "      <td>75832</td>\n",
              "      <td>0</td>\n",
              "    </tr>\n",
              "    <tr>\n",
              "      <th>1</th>\n",
              "      <td>http</td>\n",
              "      <td>3442</td>\n",
              "      <td>4</td>\n",
              "    </tr>\n",
              "    <tr>\n",
              "      <th>2</th>\n",
              "      <td>com</td>\n",
              "      <td>3389</td>\n",
              "      <td>3</td>\n",
              "    </tr>\n",
              "    <tr>\n",
              "      <th>3</th>\n",
              "      <td>iphone</td>\n",
              "      <td>2798</td>\n",
              "      <td>6</td>\n",
              "    </tr>\n",
              "    <tr>\n",
              "      <th>4</th>\n",
              "      <td>p</td>\n",
              "      <td>2724</td>\n",
              "      <td>1</td>\n",
              "    </tr>\n",
              "  </tbody>\n",
              "</table>\n",
              "</div>"
            ],
            "text/plain": [
              "    words  counts  word length\n",
              "0           75832            0\n",
              "1    http    3442            4\n",
              "2     com    3389            3\n",
              "3  iphone    2798            6\n",
              "4       p    2724            1"
            ]
          },
          "metadata": {
            "tags": []
          },
          "execution_count": 12
        }
      ]
    },
    {
      "cell_type": "code",
      "metadata": {
        "id": "8eaNa1VIigXL",
        "colab_type": "code",
        "outputId": "1aeb915b-e2bf-4c94-ece2-adedc5502181",
        "colab": {
          "base_uri": "https://localhost:8080/",
          "height": 132
        }
      },
      "source": [
        "g=[]\n",
        "for w in count_df['words']:\n",
        "  if w in dictionary:\n",
        "    g.append(w)\n",
        "    \n",
        "print('number of words belong to dictionary'len(g))"
      ],
      "execution_count": 0,
      "outputs": [
        {
          "output_type": "error",
          "ename": "SyntaxError",
          "evalue": "ignored",
          "traceback": [
            "\u001b[0;36m  File \u001b[0;32m\"<ipython-input-84-a8cd48ca847d>\"\u001b[0;36m, line \u001b[0;32m6\u001b[0m\n\u001b[0;31m    print('number of words belong to dictionary'len(g))\u001b[0m\n\u001b[0m                                                  ^\u001b[0m\n\u001b[0;31mSyntaxError\u001b[0m\u001b[0;31m:\u001b[0m invalid syntax\n"
          ]
        }
      ]
    },
    {
      "cell_type": "code",
      "metadata": {
        "id": "AyQ-sqrYsES_",
        "colab_type": "code",
        "colab": {}
      },
      "source": [
        "length=[]\n",
        "for i in range(len(clean_train)):\n",
        "  length.append(len([word.lower() for word in clean_train[i].split()]))"
      ],
      "execution_count": 0,
      "outputs": []
    },
    {
      "cell_type": "code",
      "metadata": {
        "id": "rCY5IBmDsEQ-",
        "colab_type": "code",
        "outputId": "8ec2c9fb-4b25-440f-d9b1-d7984ac0c4d8",
        "colab": {
          "base_uri": "https://localhost:8080/",
          "height": 34
        }
      },
      "source": [
        "max_len=np.max(length)\n",
        "print(max_len)"
      ],
      "execution_count": 0,
      "outputs": [
        {
          "output_type": "stream",
          "text": [
            "59\n"
          ],
          "name": "stdout"
        }
      ]
    },
    {
      "cell_type": "code",
      "metadata": {
        "id": "EXQqwmumsEN1",
        "colab_type": "code",
        "colab": {}
      },
      "source": [
        "\n",
        "def sentences_to_indices(X, word_to_index, max_len):\n",
        "    \"\"\"\n",
        "    Arguments:\n",
        "    X -- array of sentences (strings), of shape (m, 1)\n",
        "    word_to_index -- a dictionary containing the each word mapped to its index\n",
        "    max_len -- maximum number of words in a sentence. You can assume every sentence in X is no longer than this. \n",
        "    \n",
        "    Returns:\n",
        "    X_indices -- array of indices corresponding to words in the sentences from X, of shape (m, max_len)\n",
        "    \"\"\"\n",
        "    \n",
        "    m = X.shape[0]                        \n",
        "    \n",
        "    X_indices = np.zeros((m,max_len))\n",
        "    \n",
        "    for i in range(m):                                     \n",
        "        sentence_words = [word.lower() for word in X[i].split()]\n",
        "        j = 0\n",
        "        for w in sentence_words:\n",
        "          if w.lower() in dictionary:\n",
        "              X_indices[i, j] = word_to_index[w.lower()]\n",
        "              #\n",
        "              j = j + 1\n",
        "\n",
        "\n",
        "    \n",
        "    return X_indices"
      ],
      "execution_count": 0,
      "outputs": []
    },
    {
      "cell_type": "code",
      "metadata": {
        "id": "t3HVjNLKDY34",
        "colab_type": "code",
        "outputId": "c383ca83-50dd-4369-f8aa-61be7b49e93f",
        "colab": {
          "base_uri": "https://localhost:8080/",
          "height": 34
        }
      },
      "source": [
        ""
      ],
      "execution_count": 0,
      "outputs": [
        {
          "output_type": "execute_result",
          "data": {
            "text/plain": [
              "1193515"
            ]
          },
          "metadata": {
            "tags": []
          },
          "execution_count": 218
        }
      ]
    },
    {
      "cell_type": "code",
      "metadata": {
        "id": "Hs8UpgX-sELn",
        "colab_type": "code",
        "colab": {}
      },
      "source": [
        "# GRADED FUNCTION: pretrained_embedding_layer\n",
        "\n",
        "def pretrained_embedding_layer(word_to_vec_map, word_to_index):\n",
        "    \"\"\"\n",
        "    \n",
        "    Arguments:\n",
        "    word_to_vec_map -- dictionary mapping words to their GloVe vector representation.\n",
        "    word_to_index -- dictionary mapping from words to their indices in the vocabulary (400,001 words)\n",
        "\n",
        "    Returns:\n",
        "    embedding_layer -- pretrained layer Keras instance\n",
        "    \"\"\"\n",
        "    \n",
        "    vocab_len = len(word_to_index) + 1                 \n",
        "    emb_dim = word_to_vec_map[\"cucumber\"].shape[0]      \n",
        "    \n",
        "    emb_matrix = np.zeros((vocab_len, emb_dim))\n",
        "    \n",
        "    \n",
        "    for word, index in word_to_index.items():\n",
        "      if index!= 1800:\n",
        "        emb_matrix[index, :] = word_to_vec_map[word]\n",
        "\n",
        "    embedding_layer = Embedding(vocab_len, emb_dim, trainable = False)\n",
        "    \n",
        "\n",
        "    embedding_layer.build((None,))\n",
        "    \n",
        "    embedding_layer.set_weights([emb_matrix])\n",
        "    \n",
        "    return embedding_layer"
      ],
      "execution_count": 0,
      "outputs": []
    },
    {
      "cell_type": "code",
      "metadata": {
        "id": "hDcP1lvKsEHw",
        "colab_type": "code",
        "colab": {}
      },
      "source": [
        "\n",
        "def my_model(input_shape, word_to_vec_map, word_to_index):\n",
        "    \"\"\"\n",
        "    \n",
        "    Arguments:\n",
        "    input_shape -- shape of the input, usually (max_len,)\n",
        "    word_to_vec_map -- dictionary mapping every word in a vocabulary into its 50-dimensional vector representation\n",
        "    word_to_index -- dictionary mapping from words to their indices in the vocabulary (400,001 words)\n",
        "\n",
        "    Returns:\n",
        "    model -- a model instance in Keras\n",
        "    \"\"\"\n",
        "    \n",
        "    sentence_indices = Input(input_shape, dtype = 'int32')\n",
        "    \n",
        "  \n",
        "    embedding_layer = pretrained_embedding_layer(word_to_vec_map, word_to_index)\n",
        "    \n",
        "    embeddings = embedding_layer(sentence_indices)\n",
        "    \n",
        "    X = LSTM(128, return_sequences = True)(embeddings)\n",
        "    X = Dropout(0.5)(X)\n",
        "    \n",
        "    X = LSTM(128, return_sequences=False)(X)\n",
        "    X = Dropout(0.5)(X)\n",
        "    \n",
        "    X = Dense(2)(X)\n",
        "    X = Activation('softmax')(X)\n",
        "    \n",
        "    model = Model(inputs = sentence_indices, outputs = X)\n",
        "    \n",
        "    \n",
        "    return model"
      ],
      "execution_count": 0,
      "outputs": []
    },
    {
      "cell_type": "code",
      "metadata": {
        "id": "dpHEXa0QCvNX",
        "colab_type": "code",
        "outputId": "ff864087-dbd6-4a28-9d35-8bc3492d47cb",
        "colab": {
          "base_uri": "https://localhost:8080/",
          "height": 34
        }
      },
      "source": [
        "import gc \n",
        "gc.collect()"
      ],
      "execution_count": 0,
      "outputs": [
        {
          "output_type": "execute_result",
          "data": {
            "text/plain": [
              "430"
            ]
          },
          "metadata": {
            "tags": []
          },
          "execution_count": 68
        }
      ]
    },
    {
      "cell_type": "code",
      "metadata": {
        "id": "oDfwEKRxsEFx",
        "colab_type": "code",
        "outputId": "6e6ed819-8b32-45c8-d63e-a45672b31e1a",
        "colab": {
          "base_uri": "https://localhost:8080/",
          "height": 434
        }
      },
      "source": [
        "model = Emojify_V2((max_len,), word_to_vec_map, word_to_index)\n",
        "model.summary()"
      ],
      "execution_count": 0,
      "outputs": [
        {
          "output_type": "stream",
          "text": [
            "Model: \"model_4\"\n",
            "_________________________________________________________________\n",
            "Layer (type)                 Output Shape              Param #   \n",
            "=================================================================\n",
            "input_6 (InputLayer)         (None, 59)                0         \n",
            "_________________________________________________________________\n",
            "embedding_4 (Embedding)      (None, 59, 200)           238703000 \n",
            "_________________________________________________________________\n",
            "lstm_7 (LSTM)                (None, 59, 128)           168448    \n",
            "_________________________________________________________________\n",
            "dropout_7 (Dropout)          (None, 59, 128)           0         \n",
            "_________________________________________________________________\n",
            "lstm_8 (LSTM)                (None, 128)               131584    \n",
            "_________________________________________________________________\n",
            "dropout_8 (Dropout)          (None, 128)               0         \n",
            "_________________________________________________________________\n",
            "dense_4 (Dense)              (None, 2)                 258       \n",
            "_________________________________________________________________\n",
            "activation_4 (Activation)    (None, 2)                 0         \n",
            "=================================================================\n",
            "Total params: 239,003,290\n",
            "Trainable params: 300,290\n",
            "Non-trainable params: 238,703,000\n",
            "_________________________________________________________________\n"
          ],
          "name": "stdout"
        }
      ]
    },
    {
      "cell_type": "code",
      "metadata": {
        "id": "jJ3CuK71sEBs",
        "colab_type": "code",
        "colab": {}
      },
      "source": [
        "from keras import optimizers\n",
        "# sgd = optimizers.SGD(lr=0.001, decay=1e-6, momentum=0.9, nesterov=True)\n",
        "model.compile(loss='categorical_crossentropy', optimizer='adam', metrics=['acc'])"
      ],
      "execution_count": 0,
      "outputs": []
    },
    {
      "cell_type": "code",
      "metadata": {
        "id": "9i-HaP1jwcbj",
        "colab_type": "code",
        "colab": {}
      },
      "source": [
        "xtrain=np.asarray(clean_train)\n",
        "y_train=np.asarray(ytrain)"
      ],
      "execution_count": 0,
      "outputs": []
    },
    {
      "cell_type": "code",
      "metadata": {
        "id": "rWNA39B-s0lP",
        "colab_type": "code",
        "colab": {}
      },
      "source": [
        "X_train_indices = sentences_to_indices(xtrain, word_to_index, max_len)\n",
        "Y_train_oh = convert_to_one_hot(y_train, C = 2)\n"
      ],
      "execution_count": 0,
      "outputs": []
    },
    {
      "cell_type": "code",
      "metadata": {
        "id": "DJoWeCSTs3qL",
        "colab_type": "code",
        "outputId": "534e101e-30a2-4448-dbfb-9d815ccf7a80",
        "colab": {
          "base_uri": "https://localhost:8080/",
          "height": 1000
        }
      },
      "source": [
        "model.fit(X_train_indices, Y_train_oh,validation_split=0.1, epochs = 50, batch_size = 32, shuffle=True)"
      ],
      "execution_count": 0,
      "outputs": [
        {
          "output_type": "stream",
          "text": [
            "Train on 7128 samples, validate on 792 samples\n",
            "Epoch 1/50\n",
            "7128/7128 [==============================] - 30s 4ms/step - loss: 0.3339 - acc: 0.8530 - val_loss: 0.2810 - val_acc: 0.8889\n",
            "Epoch 2/50\n",
            "7128/7128 [==============================] - 27s 4ms/step - loss: 0.2627 - acc: 0.8890 - val_loss: 0.2485 - val_acc: 0.8977\n",
            "Epoch 3/50\n",
            "7128/7128 [==============================] - 29s 4ms/step - loss: 0.2349 - acc: 0.9031 - val_loss: 0.3028 - val_acc: 0.8422\n",
            "Epoch 4/50\n",
            "7128/7128 [==============================] - 30s 4ms/step - loss: 0.3018 - acc: 0.8483 - val_loss: 0.2679 - val_acc: 0.8902\n",
            "Epoch 5/50\n",
            "7128/7128 [==============================] - 29s 4ms/step - loss: 0.2492 - acc: 0.9026 - val_loss: 0.2831 - val_acc: 0.8851\n",
            "Epoch 6/50\n",
            "7128/7128 [==============================] - 29s 4ms/step - loss: 0.2661 - acc: 0.8847 - val_loss: 0.2870 - val_acc: 0.8826\n",
            "Epoch 7/50\n",
            "7128/7128 [==============================] - 29s 4ms/step - loss: 0.2771 - acc: 0.8879 - val_loss: 0.3240 - val_acc: 0.8384\n",
            "Epoch 8/50\n",
            "7128/7128 [==============================] - 30s 4ms/step - loss: 0.2438 - acc: 0.8972 - val_loss: 0.2696 - val_acc: 0.8864\n",
            "Epoch 9/50\n",
            "7128/7128 [==============================] - 29s 4ms/step - loss: 0.2696 - acc: 0.8907 - val_loss: 0.2559 - val_acc: 0.8939\n",
            "Epoch 10/50\n",
            "7128/7128 [==============================] - 29s 4ms/step - loss: 0.2398 - acc: 0.9075 - val_loss: 0.3063 - val_acc: 0.8952\n",
            "Epoch 11/50\n",
            "7128/7128 [==============================] - 29s 4ms/step - loss: 0.2545 - acc: 0.8998 - val_loss: 0.2700 - val_acc: 0.8775\n",
            "Epoch 12/50\n",
            "7128/7128 [==============================] - 28s 4ms/step - loss: 0.2414 - acc: 0.9045 - val_loss: 0.3218 - val_acc: 0.8434\n",
            "Epoch 13/50\n",
            "7128/7128 [==============================] - 29s 4ms/step - loss: 0.2313 - acc: 0.9077 - val_loss: 0.2502 - val_acc: 0.8977\n",
            "Epoch 14/50\n",
            "7128/7128 [==============================] - 29s 4ms/step - loss: 0.2183 - acc: 0.9116 - val_loss: 0.2455 - val_acc: 0.9003\n",
            "Epoch 15/50\n",
            "7128/7128 [==============================] - 30s 4ms/step - loss: 0.2102 - acc: 0.9158 - val_loss: 0.2553 - val_acc: 0.8990\n",
            "Epoch 16/50\n",
            "7128/7128 [==============================] - 30s 4ms/step - loss: 0.2209 - acc: 0.9097 - val_loss: 0.2538 - val_acc: 0.9078\n",
            "Epoch 17/50\n",
            "7128/7128 [==============================] - 29s 4ms/step - loss: 0.2174 - acc: 0.9176 - val_loss: 0.2489 - val_acc: 0.9066\n",
            "Epoch 18/50\n",
            "7128/7128 [==============================] - 30s 4ms/step - loss: 0.2247 - acc: 0.9085 - val_loss: 0.4360 - val_acc: 0.7336\n",
            "Epoch 19/50\n",
            "7128/7128 [==============================] - 28s 4ms/step - loss: 0.2348 - acc: 0.9021 - val_loss: 0.2536 - val_acc: 0.8952\n",
            "Epoch 20/50\n",
            "7128/7128 [==============================] - 28s 4ms/step - loss: 0.1978 - acc: 0.9226 - val_loss: 0.2450 - val_acc: 0.9015\n",
            "Epoch 21/50\n",
            "7128/7128 [==============================] - 28s 4ms/step - loss: 0.1962 - acc: 0.9251 - val_loss: 0.2540 - val_acc: 0.8914\n",
            "Epoch 22/50\n",
            "7128/7128 [==============================] - 29s 4ms/step - loss: 0.1885 - acc: 0.9282 - val_loss: 0.2390 - val_acc: 0.9028\n",
            "Epoch 23/50\n",
            "7128/7128 [==============================] - 29s 4ms/step - loss: 0.1869 - acc: 0.9301 - val_loss: 0.2486 - val_acc: 0.9040\n",
            "Epoch 24/50\n",
            "7128/7128 [==============================] - 29s 4ms/step - loss: 0.1859 - acc: 0.9310 - val_loss: 0.2745 - val_acc: 0.8788\n",
            "Epoch 25/50\n",
            "7128/7128 [==============================] - 39s 6ms/step - loss: 0.1815 - acc: 0.9357 - val_loss: 0.2366 - val_acc: 0.8952\n",
            "Epoch 26/50\n",
            "7128/7128 [==============================] - 38s 5ms/step - loss: 0.1751 - acc: 0.9334 - val_loss: 0.2551 - val_acc: 0.8990\n",
            "Epoch 27/50\n",
            "7128/7128 [==============================] - 38s 5ms/step - loss: 0.1627 - acc: 0.9411 - val_loss: 0.2499 - val_acc: 0.8927\n",
            "Epoch 28/50\n",
            "7128/7128 [==============================] - 34s 5ms/step - loss: 0.1530 - acc: 0.9461 - val_loss: 0.2538 - val_acc: 0.8927\n",
            "Epoch 29/50\n",
            "7128/7128 [==============================] - 37s 5ms/step - loss: 0.1474 - acc: 0.9487 - val_loss: 0.2778 - val_acc: 0.8889\n",
            "Epoch 30/50\n",
            "7128/7128 [==============================] - 31s 4ms/step - loss: 0.1429 - acc: 0.9540 - val_loss: 0.2750 - val_acc: 0.9015\n",
            "Epoch 31/50\n",
            "7128/7128 [==============================] - 32s 4ms/step - loss: 0.1347 - acc: 0.9562 - val_loss: 0.3072 - val_acc: 0.8876\n",
            "Epoch 32/50\n",
            "7128/7128 [==============================] - 31s 4ms/step - loss: 0.1290 - acc: 0.9576 - val_loss: 0.2891 - val_acc: 0.8864\n",
            "Epoch 33/50\n",
            "7128/7128 [==============================] - 31s 4ms/step - loss: 0.1322 - acc: 0.9534 - val_loss: 0.3200 - val_acc: 0.8965\n",
            "Epoch 34/50\n",
            "7128/7128 [==============================] - 30s 4ms/step - loss: 0.1518 - acc: 0.9506 - val_loss: 0.2770 - val_acc: 0.8876\n",
            "Epoch 35/50\n",
            "7128/7128 [==============================] - 31s 4ms/step - loss: 0.1388 - acc: 0.9557 - val_loss: 0.3975 - val_acc: 0.8611\n",
            "Epoch 36/50\n",
            "7128/7128 [==============================] - 31s 4ms/step - loss: 0.1389 - acc: 0.9547 - val_loss: 0.3234 - val_acc: 0.8876\n",
            "Epoch 37/50\n",
            "7128/7128 [==============================] - 30s 4ms/step - loss: 0.1068 - acc: 0.9682 - val_loss: 0.3374 - val_acc: 0.8838\n",
            "Epoch 38/50\n",
            "7128/7128 [==============================] - 30s 4ms/step - loss: 0.0973 - acc: 0.9733 - val_loss: 0.3217 - val_acc: 0.8889\n",
            "Epoch 39/50\n",
            "7128/7128 [==============================] - 31s 4ms/step - loss: 0.0994 - acc: 0.9715 - val_loss: 0.3424 - val_acc: 0.8914\n",
            "Epoch 40/50\n",
            "7128/7128 [==============================] - 29s 4ms/step - loss: 0.1003 - acc: 0.9718 - val_loss: 0.3765 - val_acc: 0.8687\n",
            "Epoch 41/50\n",
            "7128/7128 [==============================] - 29s 4ms/step - loss: 0.0865 - acc: 0.9764 - val_loss: 0.4251 - val_acc: 0.8801\n",
            "Epoch 42/50\n",
            "7128/7128 [==============================] - 29s 4ms/step - loss: 0.0805 - acc: 0.9790 - val_loss: 0.4141 - val_acc: 0.8902\n",
            "Epoch 43/50\n",
            "7128/7128 [==============================] - 29s 4ms/step - loss: 0.0984 - acc: 0.9704 - val_loss: 0.3456 - val_acc: 0.8977\n",
            "Epoch 44/50\n",
            "7128/7128 [==============================] - 29s 4ms/step - loss: 0.0843 - acc: 0.9756 - val_loss: 0.3897 - val_acc: 0.8737\n",
            "Epoch 45/50\n",
            "7128/7128 [==============================] - 29s 4ms/step - loss: 0.0727 - acc: 0.9811 - val_loss: 0.3761 - val_acc: 0.8788\n",
            "Epoch 46/50\n",
            "7128/7128 [==============================] - 30s 4ms/step - loss: 0.0657 - acc: 0.9834 - val_loss: 0.3759 - val_acc: 0.8914\n",
            "Epoch 47/50\n",
            "7128/7128 [==============================] - 29s 4ms/step - loss: 0.0625 - acc: 0.9841 - val_loss: 0.4300 - val_acc: 0.8838\n",
            "Epoch 48/50\n",
            "7128/7128 [==============================] - 29s 4ms/step - loss: 0.0532 - acc: 0.9870 - val_loss: 0.4628 - val_acc: 0.8838\n",
            "Epoch 49/50\n",
            "7128/7128 [==============================] - 29s 4ms/step - loss: 0.0457 - acc: 0.9882 - val_loss: 0.4951 - val_acc: 0.8876\n",
            "Epoch 50/50\n",
            "7128/7128 [==============================] - 29s 4ms/step - loss: 0.0401 - acc: 0.9899 - val_loss: 0.5218 - val_acc: 0.8826\n"
          ],
          "name": "stdout"
        },
        {
          "output_type": "execute_result",
          "data": {
            "text/plain": [
              "<keras.callbacks.History at 0x7f6a990e1208>"
            ]
          },
          "metadata": {
            "tags": []
          },
          "execution_count": 83
        }
      ]
    },
    {
      "cell_type": "code",
      "metadata": {
        "id": "Jhiwk32J9LFF",
        "colab_type": "code",
        "colab": {}
      },
      "source": [
        "test_clean=[]\n",
        "for i in range(len(test)):\n",
        "  new=re.sub('[^A-Za-z ]+', ' ', test['tweet'][i])\n",
        "  test_clean.append(new)"
      ],
      "execution_count": 0,
      "outputs": []
    },
    {
      "cell_type": "code",
      "metadata": {
        "id": "SP2wREw0-Eba",
        "colab_type": "code",
        "colab": {}
      },
      "source": [
        "xtest=np.asarray(test_clean)"
      ],
      "execution_count": 0,
      "outputs": []
    },
    {
      "cell_type": "code",
      "metadata": {
        "id": "X-oYFD4--b34",
        "colab_type": "code",
        "outputId": "af74e452-11d6-4431-8386-e2751eb89119",
        "colab": {
          "base_uri": "https://localhost:8080/",
          "height": 34
        }
      },
      "source": [
        "xtest[1]"
      ],
      "execution_count": 0,
      "outputs": [
        {
          "output_type": "execute_result",
          "data": {
            "text/plain": [
              "'currently shitting my fucking pants   apple  iMac  cashmoney  raddest  swagswagswag http instagr am p UUIS bIBZo '"
            ]
          },
          "metadata": {
            "tags": []
          },
          "execution_count": 87
        }
      ]
    },
    {
      "cell_type": "code",
      "metadata": {
        "id": "IvqRvwDFs3oD",
        "colab_type": "code",
        "colab": {}
      },
      "source": [
        "X_test_indices = sentences_to_indices(xtest, word_to_index, max_len)"
      ],
      "execution_count": 0,
      "outputs": []
    },
    {
      "cell_type": "code",
      "metadata": {
        "id": "u1VvdyQbs3lC",
        "colab_type": "code",
        "colab": {}
      },
      "source": [
        "y_pred=model.predict(X_test_indices)"
      ],
      "execution_count": 0,
      "outputs": []
    },
    {
      "cell_type": "code",
      "metadata": {
        "id": "tjdlKrrvs3jZ",
        "colab_type": "code",
        "colab": {}
      },
      "source": [
        "pred=[]\n",
        "for i in range(len(y_pred)):\n",
        "  pred.append(y_pred[i].tolist().index(y_pred[i].max()))"
      ],
      "execution_count": 0,
      "outputs": []
    },
    {
      "cell_type": "code",
      "metadata": {
        "id": "eS7uPWT0s3fy",
        "colab_type": "code",
        "colab": {}
      },
      "source": [
        "import os\n",
        "sample_sub=pd.read_csv('/content/drive/My Drive/sentiment/sample_submission_LnhVWA4.csv')\n",
        "sample_sub['label']=pred\n",
        "os.chdir('/content/drive/My Drive/sentiment')\n",
        "sample_sub.to_csv('sub14.csv', index=False)"
      ],
      "execution_count": 0,
      "outputs": []
    },
    {
      "cell_type": "code",
      "metadata": {
        "id": "9Aja_cZ7s3Zg",
        "colab_type": "code",
        "colab": {}
      },
      "source": [
        ""
      ],
      "execution_count": 0,
      "outputs": []
    }
  ]
}